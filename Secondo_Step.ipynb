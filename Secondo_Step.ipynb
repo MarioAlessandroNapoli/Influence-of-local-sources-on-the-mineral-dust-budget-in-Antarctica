{
 "cells": [
  {
   "cell_type": "markdown",
   "metadata": {
    "tags": []
   },
   "source": [
    "### Tesi M.N.A"
   ]
  },
  {
   "cell_type": "code",
   "execution_count": 1,
   "metadata": {
    "execution": {
     "iopub.execute_input": "2022-02-11T23:27:58.819301Z",
     "iopub.status.busy": "2022-02-11T23:27:58.818260Z",
     "iopub.status.idle": "2022-02-11T23:28:01.280408Z",
     "shell.execute_reply": "2022-02-11T23:28:01.280408Z",
     "shell.execute_reply.started": "2022-02-11T23:27:58.819301Z"
    },
    "tags": []
   },
   "outputs": [],
   "source": [
    "%load_ext autoreload\n",
    "%autoreload 2\n",
    "from Tools import *"
   ]
  },
  {
   "cell_type": "markdown",
   "metadata": {},
   "source": [
    "#### loading data"
   ]
  },
  {
   "cell_type": "code",
   "execution_count": null,
   "metadata": {
    "execution": {
     "iopub.execute_input": "2022-02-11T23:28:01.282413Z",
     "iopub.status.busy": "2022-02-11T23:28:01.282413Z"
    },
    "tags": []
   },
   "outputs": [
    {
     "name": "stderr",
     "output_type": "stream",
     "text": [
      "C:\\Users\\mario\\Desktop\\Code\\tesi\\Tools.py:372: DtypeWarning: Columns (7,11,12,27) have mixed types.Specify dtype option on import or set low_memory=False.\n",
      "  rocks = csv_to_gpd(f\"{root_path}rocks\")\n"
     ]
    }
   ],
   "source": [
    "rock_cropout, mean_elev, stazioni, unconsolidated, rocks, coastline, clusters, cluster_data = load_data_from_files()"
   ]
  },
  {
   "cell_type": "markdown",
   "metadata": {
    "execution": {
     "iopub.execute_input": "2021-08-17T22:20:16.653103Z",
     "iopub.status.busy": "2021-08-17T22:20:16.652090Z",
     "iopub.status.idle": "2021-08-17T22:20:16.659100Z",
     "shell.execute_reply": "2021-08-17T22:20:16.659100Z",
     "shell.execute_reply.started": "2021-08-17T22:20:16.653103Z"
    }
   },
   "source": [
    "### ADD STATION CODE AS ID"
   ]
  },
  {
   "cell_type": "code",
   "execution_count": null,
   "metadata": {
    "tags": []
   },
   "outputs": [],
   "source": [
    "def get_data():\n",
    "    filenames = glob(f'data{os.sep}step_2_data_input{os.sep}clima{os.sep}amrc{os.sep}*{os.sep}*.dat')\n",
    "    names = ['station', 'timestamp', 'latitude', 'longitude', 'elevation', 'temperature', 'pressure',\n",
    "                   'wind_speed', 'wind_direction', 'relative_humidity', 'vertical_temperature_difference']\n",
    "    count = 0\n",
    "    skipped = 0\n",
    "    rows = []\n",
    "    for file in tqdm(filenames[:]):\n",
    "        with open(file) as f:\n",
    "            lines = f.readlines()\n",
    "            infos = [x for x in lines[0].split(' ') if len(x) > 0]\n",
    "            station = lines[0].split(':')[1].strip('\\n').replace(' ','')\n",
    "            year = '19' + str(infos[1])\n",
    "            if int(infos[1]) <= 21:\n",
    "                year = '20' + str(infos[1])\n",
    "            month = infos[0]\n",
    "            base_dt = pd.Timestamp(year+'/'+month)\n",
    "            line = lines[1].lower()\n",
    "            try: latitude = line.split(':')[1].split('l')[0].lower().replace(' ','')\n",
    "            except:  latitude = None\n",
    "            try: longitude = line.split(':')[2].split('el')[0].lower().replace(' ','')\n",
    "            except: longitude = None\n",
    "            try: elevation = line.split(':')[3].replace(' ','').strip('m\\n')\n",
    "            except: elevation = None\n",
    "            \n",
    "            lines = lines[2:]\n",
    "            for i in range(len(lines)-1):\n",
    "                try:\n",
    "                    line = lines[i]\n",
    "                    infos = [x for x in line.split(' ') if len(x) > 0]\n",
    "                    temperature = float(infos[0])\n",
    "                    pressure = float(infos[1])\n",
    "                    wind_speed = float(infos[2])\n",
    "                    wind_direction = float(infos[3].strip('\\n'))\n",
    "                    relative_humidity = None\n",
    "                    vertical_temperature_difference = None\n",
    "                    if len(infos) == 6:\n",
    "                        relative_humidity = float(infos[4])\n",
    "                        vertical_temperature_difference = float(infos[5].strip('\\n'))\n",
    "                    timestamp = base_dt + timedelta(hours=3*(i-2))\n",
    "                    row = [station, timestamp, latitude, longitude, elevation, temperature, pressure,\n",
    "                       wind_speed, wind_direction, relative_humidity, vertical_temperature_difference]\n",
    "                    rows.append(row)\n",
    "                    count += 1\n",
    "                except Exception as e:\n",
    "                    skipped += 1\n",
    "    print(\"skipped : \", skipped)\n",
    "    amrc =  pd.DataFrame(rows, columns=names).replace(444.0, np.nan).replace('', np.nan)\n",
    "    def long_cast(long):\n",
    "        if type(long) == str:\n",
    "            if long[-1] == 'e':\n",
    "                return float(long[:-1])\n",
    "            else:\n",
    "                return -float(long[:-1])\n",
    "        else:\n",
    "            return None\n",
    "    amrc.latitude = amrc.latitude.apply(lambda x: -float(x[:-1]) if type(x) == str else None)\n",
    "    amrc.longitude = amrc.longitude.apply(lambda x: long_cast(x))\n",
    "    amrc.timestamp = pd.to_datetime(amrc.timestamp)\n",
    "    amrc['year'] = amrc.timestamp.dt.year\n",
    "    amrc['month'] = amrc.timestamp.dt.month\n",
    "    amrc['week'] = amrc.timestamp.dt.isocalendar().week\n",
    "    return amrc"
   ]
  },
  {
   "cell_type": "markdown",
   "metadata": {},
   "source": [
    "###### Dome Fuji (8904) is an exception to this, where the relative humidity column is instead lower temperature (C)."
   ]
  },
  {
   "cell_type": "code",
   "execution_count": null,
   "metadata": {
    "tags": []
   },
   "outputs": [],
   "source": [
    "amrc = get_data()\n",
    "amrc"
   ]
  },
  {
   "cell_type": "code",
   "execution_count": null,
   "metadata": {
    "tags": []
   },
   "outputs": [],
   "source": [
    "px.line(x=\"year\", y=\"number_of_records\", data_frame=amrc.groupby(\"year\").station.count().reset_index().rename(columns={\"station\" : \"number_of_records\"}))"
   ]
  },
  {
   "cell_type": "code",
   "execution_count": null,
   "metadata": {
    "tags": []
   },
   "outputs": [],
   "source": [
    "amrc = amrc[(amrc.year >= 2010) & (amrc.year <= 2020)]"
   ]
  },
  {
   "cell_type": "code",
   "execution_count": null,
   "metadata": {
    "tags": []
   },
   "outputs": [],
   "source": [
    "viz1 = amrc.groupby('station').agg({'latitude' : 'mean', 'longitude' : 'mean'}).reset_index()\n",
    "basemap = get_basemap()\n",
    "points_x, points_y = basemap(viz1.longitude, viz1.latitude)\n",
    "viz1_proj = pd.DataFrame({'x': points_x, 'y': points_y})\n",
    "\n",
    "fig, ax = plt.subplots(figsize=(10, 10))\n",
    "basemap = viz_init(ax)\n",
    "basemap.scatter(viz1_proj.x, viz1_proj.y, color='red', zorder=5, s=15, ax=ax)\n",
    "plt.plot()"
   ]
  },
  {
   "cell_type": "markdown",
   "metadata": {},
   "source": [
    "### Extract unique of amrc stations"
   ]
  },
  {
   "cell_type": "code",
   "execution_count": null,
   "metadata": {
    "tags": []
   },
   "outputs": [],
   "source": [
    "amrc_stat = amrc.groupby(\"station\").agg({'latitude' : 'mean', 'longitude' : 'mean'}).reset_index() #Mean of coords, tipically coords can differ by a little amount\n",
    "\n",
    "amrc_stat = gpd.GeoDataFrame({'station': amrc_stat.station.values}, geometry=gpd.points_from_xy(amrc_stat.longitude.values, amrc_stat.latitude.values)).set_crs('epsg:4326').to_crs('epsg:3031')"
   ]
  },
  {
   "cell_type": "markdown",
   "metadata": {},
   "source": [
    "### Integrate AWS stations with clusters info"
   ]
  },
  {
   "cell_type": "code",
   "execution_count": null,
   "metadata": {
    "tags": []
   },
   "outputs": [],
   "source": [
    "clusters['AWS_IDs'] = clusters['geometry'].apply(lambda x: [idx for idx, geom in enumerate(amrc_stat.geometry.values) if x.contains(geom)])\n",
    "clusters"
   ]
  },
  {
   "cell_type": "markdown",
   "metadata": {},
   "source": [
    "## Example Query on weather data"
   ]
  },
  {
   "cell_type": "code",
   "execution_count": null,
   "metadata": {
    "tags": []
   },
   "outputs": [],
   "source": [
    "def filter_AWS_data(amrc, amrc_stat, from_date='2010-01-01', to_date='2021-06-01', variables=None, stations=None):\n",
    "    if stations == None:\n",
    "        stations = amrc_stat.index.values\n",
    "    stations = amrc_stat[amrc_stat.index.isin(stations)].station\n",
    "    if variables == None:\n",
    "        variables = amrc.columns.values\n",
    "    return amrc[(amrc.station.isin(stations)) & (amrc.timestamp > from_date) & (amrc.timestamp < to_date)][variables]"
   ]
  },
  {
   "cell_type": "code",
   "execution_count": null,
   "metadata": {
    "tags": []
   },
   "outputs": [],
   "source": [
    "clst_0_2020 = filter_AWS_data(amrc, amrc_stat, \n",
    "                from_date = '2019-01-01', \n",
    "                to_date   = '2020-01-01',\n",
    "                variables = ['station', 'timestamp', 'wind_speed', 'wind_direction'],\n",
    "                stations  = clusters.iloc[0].AWS_IDs)\n",
    "clst_0_2020.head()"
   ]
  },
  {
   "cell_type": "code",
   "execution_count": null,
   "metadata": {
    "tags": []
   },
   "outputs": [],
   "source": [
    "for idx, row in clusters.iterrows():\n",
    "    clust_data = filter_AWS_data(amrc, amrc_stat, stations=row[\"AWS_IDs\"])\n",
    "    if len(clust_data) > 0:\n",
    "        print(f\"Cluster number: {idx}\\t median wind speed: {np.median(clust_data.wind_speed.dropna().values)}\")\n",
    "    else:\n",
    "        print(f\"Cluster number; {idx} has no AWS nearby\")"
   ]
  },
  {
   "cell_type": "markdown",
   "metadata": {},
   "source": [
    "### Wind Info"
   ]
  },
  {
   "cell_type": "code",
   "execution_count": null,
   "metadata": {
    "tags": []
   },
   "outputs": [],
   "source": [
    "wind_info = amrc.groupby([\"latitude\", \"longitude\", \"year\", \"month\", \"week\"]).agg({'wind_speed' : 'mean', 'wind_direction' : 'mean', 'station' : 'first'}).reset_index().fillna(0)\n",
    "wind_info = gpd.GeoDataFrame(wind_info, geometry=gpd.points_from_xy(wind_info.longitude, wind_info.latitude), crs=\"EPSG:4326\")\n",
    "wind_info['strong_wind'] = wind_info.wind_speed.apply(lambda x: x>6)\n",
    "wind_info['u'] = wind_info.apply(lambda x: x.wind_speed*(np.cos(x.wind_direction * np.pi/180)), axis=1)\n",
    "wind_info['v'] = wind_info.apply(lambda x: x.wind_speed*(np.sin(x.wind_direction * np.pi/180)), axis=1)\n",
    "wind_info"
   ]
  },
  {
   "cell_type": "code",
   "execution_count": null,
   "metadata": {
    "tags": []
   },
   "outputs": [],
   "source": [
    "years = range(2010, 2021)\n",
    "gridded_data_speed = {}\n",
    "gridded_data_x = {}\n",
    "gridded_data_y = {}\n",
    "\n",
    "\n",
    "resolution = 100\n",
    "points_x, points_y = basemap(wind_info.longitude.values, wind_info.latitude.values)\n",
    "x = np.linspace(np.min(points_x), np.max(points_x), resolution)\n",
    "y = np.linspace(np.min(points_y), np.max(points_y), resolution)\n",
    "X, Y = np.meshgrid(x, y)\n",
    "\n",
    "for year in tqdm(years):\n",
    "    # Initialize data\n",
    "    year_data = wind_info[wind_info.year == year]\n",
    "    \n",
    "    points_x, points_y = basemap(year_data.longitude.values, year_data.latitude.values)\n",
    "    \n",
    "    # Interpolate wind speed and wind direction in grid\n",
    "    z = griddata((points_x, points_y), year_data.wind_speed, (X, Y), method=\"linear\", rescale=True, fill_value=0)\n",
    "    u = griddata((points_x, points_y), year_data.u, (X, Y), method=\"linear\", rescale=True, fill_value=0)\n",
    "    v = griddata((points_x, points_y), year_data.v, (X, Y), method=\"linear\", rescale=True, fill_value=0)\n",
    "\n",
    "    gridded_data_speed.update({year : z})\n",
    "    gridded_data_x.update({year : u})\n",
    "    gridded_data_y.update({year : v})"
   ]
  },
  {
   "cell_type": "code",
   "execution_count": null,
   "metadata": {
    "tags": []
   },
   "outputs": [],
   "source": [
    "gridded_data_info = {\"speed\" : gridded_data_speed, \n",
    "                     \"x\" : gridded_data_x, \n",
    "                     \"y\" :gridded_data_y}"
   ]
  },
  {
   "cell_type": "code",
   "execution_count": null,
   "metadata": {
    "tags": []
   },
   "outputs": [],
   "source": [
    "year_test = 2014\n",
    "\n",
    "fig, ax = plt.subplots(figsize = (20, 20))\n",
    "basemap = viz_init(ax)\n",
    "\n",
    "v = np.int32(np.linspace(\n",
    "    0,\n",
    "    np.quantile(np.nan_to_num(wind_info.wind_speed, 0), 0.98),\n",
    "    10))\n",
    "\n",
    "cnt = basemap.contourf(X, Y, gridded_data_info['speed'][year_test], v, cmap='jet', alpha=0.85)\n",
    "#arr = basemap.quiver(X, Y, gridded_data_info['x'][year_test], gridded_data_info['y'][year_test], alpha=0.5)\n",
    "plt.colorbar(cnt, ticks=v)\n",
    "plt.show()"
   ]
  }
 ],
 "metadata": {
  "kernelspec": {
   "display_name": "TESI_ENV",
   "language": "python",
   "name": "tesi_env"
  },
  "language_info": {
   "codemirror_mode": {
    "name": "ipython",
    "version": 3
   },
   "file_extension": ".py",
   "mimetype": "text/x-python",
   "name": "python",
   "nbconvert_exporter": "python",
   "pygments_lexer": "ipython3",
   "version": "3.9.6"
  }
 },
 "nbformat": 4,
 "nbformat_minor": 4
}
