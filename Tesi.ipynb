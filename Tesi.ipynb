{
 "cells": [
  {
   "cell_type": "code",
   "execution_count": null,
   "metadata": {},
   "outputs": [],
   "source": [
    "import geopandas as gpd\n",
    "import matplotlib.pyplot as plt\n",
    "import pandas as pd\n",
    "import numpy as np\n",
    "\n",
    "from mpl_toolkits.basemap import Basemap\n",
    "import numpy as np\n",
    "import matplotlib.pyplot as plt\n",
    "\n",
    "from shapely.ops import nearest_points\n",
    "from shapely.geometry import Point"
   ]
  },
  {
   "cell_type": "code",
   "execution_count": null,
   "metadata": {},
   "outputs": [],
   "source": [
    "gdf = gpd.read_file('rockoutcrop/add_rockoutcrop_landsatWGS84.shp').to_crs('epsg:3031')\n",
    "df = pd.read_csv('DEM/bamber.5km97.dat', sep=' ', header=None, names=['latitude','longitude','difference','elevation'])"
   ]
  },
  {
   "cell_type": "code",
   "execution_count": null,
   "metadata": {
    "tags": []
   },
   "outputs": [],
   "source": [
    "df.loc[:,'latitude'] = np.around(df.loc[:,'latitude'],0)\n",
    "df.loc[:,'longitude'] = np.around(df.loc[:,'longitude'],0)\n",
    "meanElev = df.groupby(['latitude', 'longitude']).elevation.mean().reset_index()"
   ]
  },
  {
   "cell_type": "code",
   "execution_count": null,
   "metadata": {},
   "outputs": [],
   "source": [
    "%%time\n",
    "def find_nearest_elev(lon, lat):\n",
    "    try:    return meanElev[(meanElev.longitude == int(lon)) & (meanElev.latitude == int(lat))].elevation.values[0]\n",
    "    except: return None\n",
    "\n",
    "gdf['elev'] = gdf.to_crs('epsg:4326').apply(lambda row: find_nearest_elev(row.geometry.centroid.x, row.geometry.centroid.y), axis=1)"
   ]
  },
  {
   "cell_type": "code",
   "execution_count": null,
   "metadata": {
    "tags": []
   },
   "outputs": [],
   "source": [
    "#Cropout\n",
    "m = Basemap(projection='spstere',boundinglat=-60,lon_0=180,resolution='h')\n",
    "xpt, ypt = m(gdf.to_crs('epsg:4326').geometry.centroid.x,gdf.to_crs('epsg:4326').geometry.centroid.y)\n",
    "\n",
    "#Stazioni\n",
    "stazioni = pd.read_csv('stazioni.csv', encoding= 'utf-8')\n",
    "stazioni = gpd.GeoDataFrame(\n",
    "    stazioni, geometry=gpd.points_from_xy(stazioni.longitude, stazioni.latitude))\n",
    "stazioni = stazioni.set_crs('epsg:4326').to_crs('epsg:3031')\n",
    "\n",
    "sxpt, sypt = m(stazioni.to_crs('epsg:4326').geometry.centroid.x, stazioni.to_crs('epsg:4326').geometry.centroid.y)"
   ]
  },
  {
   "cell_type": "code",
   "execution_count": null,
   "metadata": {},
   "outputs": [],
   "source": [
    "plt.figure(figsize=(15,15))\n",
    "m.drawcoastlines()\n",
    "m.fillcontinents(color='white',lake_color='aqua')\n",
    "m.drawmapboundary(fill_color='lightblue')\n",
    "\n",
    "m.scatter(xpt, ypt, c=np.log(gdf['geometry'].area), cmap=plt.cm.bwr, zorder = 3, s=0.1)\n",
    "plt.colorbar(pad = 0.01 , shrink = 0.7, aspect = 50)\n",
    "plt.show()"
   ]
  },
  {
   "cell_type": "code",
   "execution_count": null,
   "metadata": {
    "tags": []
   },
   "outputs": [],
   "source": [
    "plt.figure(figsize=(15,15))\n",
    "m = Basemap(projection='spstere',boundinglat=-60,lon_0=180,resolution='h')\n",
    "m.drawcoastlines()\n",
    "m.fillcontinents(color='white',lake_color='aqua')\n",
    "m.drawmapboundary(fill_color='lightblue')\n",
    "\n",
    "m.scatter(xpt, ypt, c=gdf['elev'], cmap=plt.cm.bwr, zorder = 3, s=0.1)\n",
    "m.scatter(sxpt, sypt, c='black', zorder = 3, s=50)\n",
    "plt.colorbar(pad = 0.01 , shrink = 0.7, aspect = 50)\n",
    "plt.show()"
   ]
  },
  {
   "cell_type": "markdown",
   "metadata": {},
   "source": [
    "##### EXTRACT ROCKs or UNCONSOLIDATED AREAs"
   ]
  },
  {
   "cell_type": "code",
   "execution_count": null,
   "metadata": {},
   "outputs": [],
   "source": [
    "%%time\n",
    "gudf = gpd.read_file('GeoUnits/shapefile/geo_units.shp')\n",
    "\n",
    "unconsolidatedClasses = ['Hs', 'Qk', 'Quc','Qc','Qu','Qa','Qs']\n",
    "topographyClasses = ['w', 'water', 'ice', '?', 'unknown']\n",
    "\n",
    "unconsolidated = gudf[gudf.MAPSYMBOL.isin(unconsolidatedClasses)]\n",
    "rocks = gudf[~(gudf.MAPSYMBOL.isin(unconsolidatedClasses)) & ~(gudf.MAPSYMBOL.isin(topographyClasses))]\n",
    "\n",
    "del gudf"
   ]
  },
  {
   "cell_type": "code",
   "execution_count": null,
   "metadata": {
    "tags": []
   },
   "outputs": [],
   "source": [
    "#Cropout\n",
    "rocks_x, rocks_y = m(rocks.geometry.centroid.x,rocks.geometry.centroid.y)\n",
    "unco_x, unco_y   = m(unconsolidated.geometry.centroid.x,unconsolidated.geometry.centroid.y)"
   ]
  },
  {
   "cell_type": "code",
   "execution_count": null,
   "metadata": {},
   "outputs": [],
   "source": [
    "plt.figure(figsize=(15,15))\n",
    "m = Basemap(projection='spstere',boundinglat=-60,lon_0=180,resolution='h')\n",
    "m.drawcoastlines()\n",
    "m.fillcontinents(color='white',lake_color='aqua')\n",
    "m.drawmapboundary(fill_color='lightblue')\n",
    "\n",
    "m.scatter(rocks_x, rocks_y, c='gray', zorder = 3, s=0.1)\n",
    "m.scatter(unco_x, unco_y, c='yellow', zorder = 3, s=0.1)\n",
    "plt.show()"
   ]
  },
  {
   "cell_type": "code",
   "execution_count": null,
   "metadata": {
    "tags": []
   },
   "outputs": [],
   "source": [
    "clusterDF = pd.DataFrame({'lon' : gdf.geometry.centroid.x, \n",
    "                          'lat' : gdf.geometry.centroid.y,\n",
    "                          'area': gdf.geometry.area,\n",
    "                          'elev': gdf.elev})\n",
    "clusterDF = gpd.GeoDataFrame(\n",
    "    clusterDF, geometry=gpd.points_from_xy(clusterDF.lon, clusterDF.lat)).set_crs('epsg:3031')"
   ]
  },
  {
   "cell_type": "code",
   "execution_count": null,
   "metadata": {},
   "outputs": [],
   "source": [
    "import plotly.express as px\n",
    "from sklearn.cluster import KMeans\n",
    "from sklearn.preprocessing import MinMaxScaler\n",
    "import plotly.graph_objects as go\n",
    "import numpy as np\n",
    "\n",
    "X=clusterDF.iloc[:,:-1]\n",
    "scaler = MinMaxScaler()\n",
    "scaler.fit(X)\n",
    "X=scaler.transform(X)"
   ]
  },
  {
   "cell_type": "code",
   "execution_count": null,
   "metadata": {
    "tags": []
   },
   "outputs": [],
   "source": [
    "%%time\n",
    "inertia = []\n",
    "for i in range(1,11):\n",
    "    kmeans = KMeans(\n",
    "        n_clusters=i, init=\"k-means++\",\n",
    "        n_init=10,\n",
    "        tol=1e-04, random_state=42\n",
    "    )\n",
    "    kmeans.fit(X)\n",
    "    inertia.append(kmeans.inertia_)\n",
    "fig = go.Figure(data=go.Scatter(x=np.arange(1,11),y=inertia))\n",
    "fig.update_layout(title=\"Inertia vs Cluster Number\",xaxis=dict(range=[0,11],title=\"Cluster Number\"),\n",
    "                  yaxis={'title':'Inertia'},\n",
    "                 annotations=[\n",
    "        dict(\n",
    "            x=3,\n",
    "            y=inertia[2],\n",
    "            xref=\"x\",\n",
    "            yref=\"y\",\n",
    "            text=\"Elbow!\",\n",
    "            showarrow=True,\n",
    "            arrowhead=7,\n",
    "            ax=20,\n",
    "            ay=-40\n",
    "        )\n",
    "    ])"
   ]
  },
  {
   "cell_type": "code",
   "execution_count": null,
   "metadata": {},
   "outputs": [],
   "source": [
    "clusterDF"
   ]
  },
  {
   "cell_type": "code",
   "execution_count": null,
   "metadata": {},
   "outputs": [],
   "source": [
    "#Cropout\n",
    "clust_x, clust_y = m(clusterDF.to_crs('epsg:4326').geometry.x,clusterDF.to_crs('epsg:4326').geometry.y)"
   ]
  },
  {
   "cell_type": "code",
   "execution_count": null,
   "metadata": {},
   "outputs": [],
   "source": [
    "from scipy.spatial import ConvexHull as ch\n",
    "from shapely.geometry import Polygon\n",
    "import shapely\n",
    "from descartes import PolygonPatch\n",
    "from matplotlib.collections import PatchCollection\n",
    "import matplotlib\n",
    "\n",
    "def appendCluster(clusters, point):\n",
    "        for i in range(num_cluster):\n",
    "            if clusters.geometry[i].contains(point):\n",
    "                return i\n",
    "        return -1\n",
    "\n",
    "def getElevRange():\n",
    "    elevRange = []\n",
    "    for i in range(num_cluster):\n",
    "        temp = gdf[gdf.cluster == i]\n",
    "        elevRange.append(np.max(temp.elev) - np.min(temp.elev))\n",
    "    return pd.Series(elevRange)\n",
    "\n",
    "num_cluster = 1\n",
    "\n",
    "def getClusters(n):\n",
    "    global num_cluster\n",
    "    num_cluster = n\n",
    "    kmeans = KMeans(n_clusters=num_cluster, init=\"k-means++\",n_init=10,tol=1e-04, random_state=42)\n",
    "    kmeans.fit(X)\n",
    "    \n",
    "    m = Basemap(projection='spstere',boundinglat=-60,lon_0=180,resolution='h') \n",
    "    \n",
    "    clusterDF['label']=kmeans.labels_\n",
    "    clusters = pd.DataFrame(columns=('cluster_num','geometry'))    \n",
    "    for label in range(0,num_cluster):\n",
    "        arr = clusterDF[clusterDF.label == label][['lon','lat']].to_numpy()\n",
    "        hull = ch(arr)\n",
    "        polylist = []\n",
    "        for idx in hull.vertices: #Indices of points forming the vertices of the convex hull.\n",
    "            polylist.append(arr[idx]) #Append this index point to list\n",
    "        p = Polygon(polylist)\n",
    "        clusters.at[label] = [label,p]\n",
    "    clusters = gpd.GeoDataFrame(clusters, crs='EPSG:{}'.format(3031), geometry='geometry')\n",
    "    clusters['centroid'] = clusters.geometry.apply(lambda x: x.centroid)\n",
    "    CCxpt, CCypt = m(clusters.centroid.to_crs('epsg:4326').x, clusters.centroid.to_crs('epsg:4326').y)\n",
    "    gdf['cluster'] = gdf.geometry.apply(lambda x: appendCluster(clusters, x.centroid))\n",
    "    \n",
    "    patches = []\n",
    "    for poly in clusters.to_crs('epsg:4326').geometry:\n",
    "        if poly.geom_type == 'Polygon':\n",
    "            mpoly = shapely.ops.transform(m, poly)\n",
    "            patches.append(PolygonPatch(mpoly))\n",
    "        elif poly.geom_type == 'MultiPolygon':\n",
    "            for subpoly in poly:\n",
    "                mpoly = shapely.ops.transform(m, poly)\n",
    "                patches.append(PolygonPatch(mpoly))\n",
    "        else:\n",
    "            print(poly, 'is neither a polygon nor a multi-polygon. Skipping it')\n",
    "            \n",
    "    clusters['elev'] = gdf.groupby('cluster').elev.mean().reset_index().sort_values(by='cluster').iloc[1:].elev.values\n",
    "    clusters['elevation_range'] = getElevRange()\n",
    "    \n",
    "    #clusters = clusters.to_crs('EPSG:4326')\n",
    "    \n",
    "    fig, ax1 = plt.subplots(figsize=(20, 20))\n",
    "    m.drawcoastlines()\n",
    "    m.fillcontinents(color='white',lake_color='aqua')\n",
    "    m.drawmapboundary(fill_color='lightblue')\n",
    "    m.scatter(clust_x, clust_y, c=kmeans.labels_, zorder = 3, s=0.1)\n",
    "    p = PatchCollection(patches, cmap=matplotlib.cm.jet, match_original=True, zorder=4, alpha=0.5)\n",
    "    p.set_array(clusters.elev)\n",
    "    ax1.add_collection(p)\n",
    "    plt.colorbar(p, pad = 0.01 , shrink = 0.85, aspect = 20)\n",
    "    m.scatter(CCxpt, CCypt, marker='P', c='white', zorder = 4, s=100)\n",
    "    m.scatter(sxpt, sypt, marker='^', c='black', zorder = 4, s=150)\n",
    "    plt.show()\n",
    "    return clusters"
   ]
  },
  {
   "cell_type": "code",
   "execution_count": null,
   "metadata": {},
   "outputs": [],
   "source": [
    "clusters = getClusters(8)"
   ]
  },
  {
   "cell_type": "code",
   "execution_count": null,
   "metadata": {},
   "outputs": [],
   "source": [
    "clusters"
   ]
  },
  {
   "cell_type": "code",
   "execution_count": null,
   "metadata": {},
   "outputs": [],
   "source": [
    "coastline = gpd.read_file('coastline/add_coastline_medium_res_line_v7_4.shp')"
   ]
  },
  {
   "cell_type": "code",
   "execution_count": null,
   "metadata": {},
   "outputs": [],
   "source": [
    "distance_from_coastline = []\n",
    "for point in range(len(stazioni)):\n",
    "    p1 = stazioni.iloc[point].geometry\n",
    "    p2 = coastline.iloc[np.argmin([stazioni.iloc[point].geometry.distance(line) for line in coastline.geometry])].geometry\n",
    "\n",
    "    ax = coastline.plot()\n",
    "    ax.scatter(p1.x, p1.y, c='black', zorder=3)\n",
    "    ax.scatter(p2.centroid.x, p2.centroid.y, c='red', zorder=3)\n",
    "    distance = p1.distance(p2) / 1000\n",
    "    distance_from_coastline.append(distance)\n",
    "    print(distance)\n",
    "    plt.show()"
   ]
  },
  {
   "cell_type": "code",
   "execution_count": null,
   "metadata": {},
   "outputs": [],
   "source": [
    "stazioni['distance_from_coastline(km)'] = np.around(distance_from_coastline,2)"
   ]
  },
  {
   "cell_type": "code",
   "execution_count": null,
   "metadata": {},
   "outputs": [],
   "source": [
    "stazioni"
   ]
  },
  {
   "cell_type": "code",
   "execution_count": null,
   "metadata": {},
   "outputs": [],
   "source": [
    "import pyproj    \n",
    "import shapely\n",
    "import shapely.ops as ops\n",
    "from shapely.geometry.polygon import Polygon\n",
    "from functools import partial\n",
    "\n",
    "\n",
    "def getArea(poly):\n",
    "    geom = poly\n",
    "    geom_area = ops.transform(\n",
    "        partial(\n",
    "            pyproj.transform,\n",
    "            pyproj.Proj(init='EPSG:4326'),\n",
    "            pyproj.Proj(\n",
    "                proj='aea',\n",
    "                lat_1=geom.bounds[1],\n",
    "                lat_2=geom.bounds[3]\n",
    "            )\n",
    "        ),\n",
    "        geom)\n",
    "    return round(geom_area.area / 1e6)"
   ]
  },
  {
   "cell_type": "code",
   "execution_count": null,
   "metadata": {
    "tags": []
   },
   "outputs": [],
   "source": [
    "clusters['area_km2'] = clusters.to_crs('epsg:4326').geometry.apply(lambda x: getArea(x))"
   ]
  },
  {
   "cell_type": "code",
   "execution_count": null,
   "metadata": {},
   "outputs": [],
   "source": [
    "clusters.head()"
   ]
  },
  {
   "cell_type": "code",
   "execution_count": null,
   "metadata": {
    "tags": []
   },
   "outputs": [],
   "source": [
    "import plotly.express as px\n",
    "fig = px.scatter(clusters, x=\"cluster_num\", y=\"elev\", size='area_km2', color='elevation_range',width=1000, height=500)\n",
    "fig.show()"
   ]
  },
  {
   "cell_type": "code",
   "execution_count": null,
   "metadata": {},
   "outputs": [],
   "source": [
    "%%time\n",
    "def get_total_cropout_area_under_radius(point, target, radius):\n",
    "    arr = [point.distance(geom) / 1000 for geom in target]\n",
    "    idx = [idx for idx in range(len(arr)) if arr[idx] < radius]\n",
    "    return np.around(target.iloc[idx].geometry.area.values.sum()/1e6,2)\n",
    "\n",
    "stazioni['nearest_cluster']             = stazioni.geometry.apply(lambda x: clusters.iloc[np.argmin([x.distance(geom.centroid) / 1000 for geom in clusters.geometry])].cluster_num )\n",
    "stazioni['distance_to_nearest_cluster'] = stazioni.geometry.apply(lambda x: np.around(x.distance(clusters.iloc[np.argmin([x.distance(geom.centroid) / 1000 for geom in clusters.geometry])].centroid) / 1000,2 ))\n",
    "stazioni['nearest_cropout(km)']         = stazioni.geometry.apply(lambda x: np.around(np.min([x.distance(geom) / 1000 for geom in gdf.geometry]), 2) )\n",
    "stazioni['cropout_area_within_500km']   = stazioni.geometry.apply(lambda x: get_total_cropout_area_under_radius(x, gdf.geometry, 500))\n",
    "stazioni['cropout_area_within_1000km']  = stazioni.geometry.apply(lambda x: get_total_cropout_area_under_radius(x, gdf.geometry, 1000))"
   ]
  },
  {
   "cell_type": "code",
   "execution_count": null,
   "metadata": {},
   "outputs": [],
   "source": [
    "stazioni"
   ]
  },
  {
   "cell_type": "code",
   "execution_count": null,
   "metadata": {},
   "outputs": [],
   "source": [
    "fig = px.scatter(stazioni, x=\"distance_from_coastline(km)\", y=\"distance_to_nearest_cluster\", size='cropout_area_within_1000km', color='dust_conc_(ppb)',width=1000, height=500)\n",
    "fig.show()"
   ]
  },
  {
   "cell_type": "code",
   "execution_count": null,
   "metadata": {},
   "outputs": [],
   "source": [
    "fig = px.scatter(stazioni, x=\"dust_conc_(ppb)\", y=\"cropout_area_within_1000km\", size='distance_from_coastline(km)', color='altitude',width=1000, height=500)\n",
    "fig.show()"
   ]
  }
 ],
 "metadata": {
  "kernelspec": {
   "display_name": "Python 3",
   "language": "python",
   "name": "python3"
  },
  "language_info": {
   "codemirror_mode": {
    "name": "ipython",
    "version": 3
   },
   "file_extension": ".py",
   "mimetype": "text/x-python",
   "name": "python",
   "nbconvert_exporter": "python",
   "pygments_lexer": "ipython3",
   "version": "3.8.8"
  }
 },
 "nbformat": 4,
 "nbformat_minor": 4
}
