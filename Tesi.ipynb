{
 "cells": [
  {
   "cell_type": "markdown",
   "metadata": {},
   "source": [
    "### Tesi M.N.A"
   ]
  },
  {
   "cell_type": "markdown",
   "metadata": {},
   "source": [
    "#### Importing tools and functions"
   ]
  },
  {
   "cell_type": "code",
   "execution_count": null,
   "metadata": {},
   "outputs": [],
   "source": [
    "%load_ext autoreload\n",
    "%autoreload 2\n",
    "from Tools import *"
   ]
  },
  {
   "cell_type": "markdown",
   "metadata": {},
   "source": [
    "#### loading data"
   ]
  },
  {
   "cell_type": "code",
   "execution_count": null,
   "metadata": {},
   "outputs": [],
   "source": [
    "rock_cropout, mean_elev, stazioni, unconsolidated, rocks, coastline = load_data()"
   ]
  },
  {
   "cell_type": "code",
   "execution_count": null,
   "metadata": {},
   "outputs": [],
   "source": [
    "#RANDOM SAMPLING OF CROPOUT BIGGER THEN 2500 m^2 (50*50) square\n",
    "rock_cropout = rock_cropout[rock_cropout.geometry.area > (50*50)].sample(frac=0.33)"
   ]
  },
  {
   "cell_type": "markdown",
   "metadata": {},
   "source": [
    "#### get elevations of rock_cropouts"
   ]
  },
  {
   "cell_type": "code",
   "execution_count": null,
   "metadata": {
    "tags": []
   },
   "outputs": [],
   "source": [
    "rock_cropout['elevation'] = get_elevation(rock_cropout, mean_elev)"
   ]
  },
  {
   "cell_type": "markdown",
   "metadata": {},
   "source": [
    "#### get basemap projections of all the data we want to visualize"
   ]
  },
  {
   "cell_type": "code",
   "execution_count": null,
   "metadata": {},
   "outputs": [],
   "source": [
    "viz_cropout, viz_stazioni, viz_rocks, viz_uncons = get_basemap_projection([rock_cropout, stazioni, rocks, unconsolidated])"
   ]
  },
  {
   "cell_type": "markdown",
   "metadata": {},
   "source": [
    "#### Visualize initial data"
   ]
  },
  {
   "cell_type": "code",
   "execution_count": null,
   "metadata": {},
   "outputs": [],
   "source": [
    "visualize_exploratory_data(rock_cropout, viz_cropout, viz_stazioni, viz_rocks, viz_uncons)"
   ]
  },
  {
   "cell_type": "markdown",
   "metadata": {},
   "source": [
    "#### Get clustering"
   ]
  },
  {
   "cell_type": "code",
   "execution_count": null,
   "metadata": {
    "jupyter": {
     "source_hidden": true
    }
   },
   "outputs": [],
   "source": [
    "import cProfile\n",
    "import pstats\n",
    "\n",
    "with cProfile.Profile() as pr:\n",
    "    get_clusters(25, rock_cropout, viz_cropout, viz_stazioni, cluster_data.iloc[:,1:])\n",
    "\n",
    "stats = pstats.Stats(pr)\n",
    "stats.sort_stats(pstats.SortKey.TIME)\n",
    "stats.dump_stats(filename='profiling.prof')"
   ]
  },
  {
   "cell_type": "code",
   "execution_count": null,
   "metadata": {},
   "outputs": [],
   "source": [
    "# No area, è abbastanza inutile\n",
    "cluster_data = get_cluster_data(rock_cropout)"
   ]
  },
  {
   "cell_type": "code",
   "execution_count": null,
   "metadata": {},
   "outputs": [],
   "source": [
    "clusters = get_clusters(35, rock_cropout, viz_cropout, viz_stazioni, cluster_data.iloc[:,1:])"
   ]
  },
  {
   "cell_type": "code",
   "execution_count": null,
   "metadata": {},
   "outputs": [],
   "source": [
    "stazioni['distance_from_coastline(km)']     = get_distance_from_coastline(stazioni, coastline)\n",
    "stazioni['nearest_cluster(num)']            = stazioni.geometry.apply(lambda x: clusters.iloc[np.argmin([x.distance(geom.centroid) / 1000 for geom in clusters.geometry])].cluster_num )\n",
    "## TODO Check distanza dal centroide e distanza dal cropout più vicino del cluster\n",
    "stazioni['distance_to_nearest_cluster(km)'] = stazioni.geometry.apply(lambda x: np.around(x.distance(clusters.iloc[np.argmin([x.distance(geom.centroid) / 1000 for geom in clusters.geometry])].geometry.centroid) / 1000,2 ))\n",
    "stazioni['nearest_cropout(km)']             = stazioni.geometry.apply(lambda x: np.around(np.min([x.distance(geom) / 1000 for geom in rock_cropout.geometry]), 2) )\n",
    "##\n",
    "stazioni['cropout_area_within_500km']       = stazioni.geometry.apply(lambda x: get_total_cropout_area_under_radius(x, rock_cropout.geometry, 500))\n",
    "stazioni['cropout_area_within_1000km']      = stazioni.geometry.apply(lambda x: get_total_cropout_area_under_radius(x, rock_cropout.geometry, 1000))"
   ]
  },
  {
   "cell_type": "code",
   "execution_count": null,
   "metadata": {},
   "outputs": [],
   "source": [
    "stazioni"
   ]
  },
  {
   "cell_type": "markdown",
   "metadata": {},
   "source": [
    "### VIZs"
   ]
  },
  {
   "cell_type": "code",
   "execution_count": null,
   "metadata": {
    "tags": []
   },
   "outputs": [],
   "source": [
    "px.scatter(clusters, x=\"cluster_num\", y=\"elevation\", size='area_km2', color='elevation_range',width=1000, height=500)"
   ]
  },
  {
   "cell_type": "code",
   "execution_count": null,
   "metadata": {},
   "outputs": [],
   "source": [
    "px.scatter(stazioni, x=\"distance_from_coastline(km)\", y=\"distance_to_nearest_cluster(km)\", size='cropout_area_within_1000km', color='dust_conc_(ppb)',width=1000, height=500)"
   ]
  },
  {
   "cell_type": "code",
   "execution_count": null,
   "metadata": {},
   "outputs": [],
   "source": [
    "px.scatter(stazioni, x=\"dust_conc_(ppb)\", y=\"cropout_area_within_1000km\", size='distance_from_coastline(km)', color='altitude',width=1000, height=500)"
   ]
  },
  {
   "cell_type": "code",
   "execution_count": null,
   "metadata": {},
   "outputs": [],
   "source": []
  },
  {
   "cell_type": "code",
   "execution_count": null,
   "metadata": {},
   "outputs": [],
   "source": []
  },
  {
   "cell_type": "code",
   "execution_count": null,
   "metadata": {},
   "outputs": [],
   "source": []
  },
  {
   "cell_type": "code",
   "execution_count": null,
   "metadata": {},
   "outputs": [],
   "source": []
  },
  {
   "cell_type": "code",
   "execution_count": null,
   "metadata": {},
   "outputs": [],
   "source": []
  },
  {
   "cell_type": "code",
   "execution_count": null,
   "metadata": {},
   "outputs": [],
   "source": []
  },
  {
   "cell_type": "code",
   "execution_count": null,
   "metadata": {},
   "outputs": [],
   "source": []
  },
  {
   "cell_type": "code",
   "execution_count": null,
   "metadata": {},
   "outputs": [],
   "source": []
  },
  {
   "cell_type": "code",
   "execution_count": null,
   "metadata": {},
   "outputs": [],
   "source": []
  },
  {
   "cell_type": "code",
   "execution_count": null,
   "metadata": {},
   "outputs": [],
   "source": []
  },
  {
   "cell_type": "code",
   "execution_count": null,
   "metadata": {},
   "outputs": [],
   "source": []
  },
  {
   "cell_type": "code",
   "execution_count": null,
   "metadata": {},
   "outputs": [],
   "source": []
  }
 ],
 "metadata": {
  "kernelspec": {
   "display_name": "Python 3",
   "language": "python",
   "name": "python3"
  },
  "language_info": {
   "codemirror_mode": {
    "name": "ipython",
    "version": 3
   },
   "file_extension": ".py",
   "mimetype": "text/x-python",
   "name": "python",
   "nbconvert_exporter": "python",
   "pygments_lexer": "ipython3",
   "version": "3.8.8"
  }
 },
 "nbformat": 4,
 "nbformat_minor": 4
}
