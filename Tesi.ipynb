{
 "cells": [
  {
   "cell_type": "markdown",
   "metadata": {},
   "source": [
    "### Tesi M.N.A"
   ]
  },
  {
   "cell_type": "markdown",
   "metadata": {},
   "source": [
    "#### Importing tools and functions"
   ]
  },
  {
   "cell_type": "code",
   "execution_count": null,
   "metadata": {},
   "outputs": [],
   "source": [
    "from Tools import *"
   ]
  },
  {
   "cell_type": "markdown",
   "metadata": {},
   "source": [
    "#### loading data"
   ]
  },
  {
   "cell_type": "code",
   "execution_count": null,
   "metadata": {},
   "outputs": [],
   "source": [
    "rock_cropout, mean_elev, stazioni, unconsolidated, rocks, coastline = load_data()"
   ]
  },
  {
   "cell_type": "markdown",
   "metadata": {},
   "source": [
    "#### get elevations of rock_cropouts"
   ]
  },
  {
   "cell_type": "code",
   "execution_count": null,
   "metadata": {
    "tags": []
   },
   "outputs": [],
   "source": [
    "rock_cropout['elevation'] = get_elevation(rock_cropout, mean_elev)"
   ]
  },
  {
   "cell_type": "markdown",
   "metadata": {},
   "source": [
    "#### get basemap projections of all the data we want to visualize"
   ]
  },
  {
   "cell_type": "code",
   "execution_count": null,
   "metadata": {},
   "outputs": [],
   "source": [
    "viz_cropout  = get_basemap_projection(rock_cropout.geometry)\n",
    "viz_stazioni = get_basemap_projection(stazioni.geometry)\n",
    "viz_rocks    = get_basemap_projection(rocks.geometry)\n",
    "viz_uncons   = get_basemap_projection(unconsolidated.geometry)"
   ]
  },
  {
   "cell_type": "markdown",
   "metadata": {},
   "source": [
    "#### Visualize initial data"
   ]
  },
  {
   "cell_type": "code",
   "execution_count": null,
   "metadata": {},
   "outputs": [],
   "source": [
    "### TODO MERGE 3 GRAPH in one row"
   ]
  },
  {
   "cell_type": "code",
   "execution_count": null,
   "metadata": {
    "tags": []
   },
   "outputs": [],
   "source": [
    "m = viz_init()\n",
    "\n",
    "m.scatter(viz_cropout.x, viz_cropout.y, c=np.log(rock_cropout.to_crs('epsg:3031')['geometry'].area), cmap=plt.cm.bwr, zorder = 3, s=0.1)\n",
    "plt.colorbar(pad = 0.01 , shrink = 0.7, aspect = 50)\n",
    "plt.show()"
   ]
  },
  {
   "cell_type": "code",
   "execution_count": null,
   "metadata": {
    "tags": []
   },
   "outputs": [],
   "source": [
    "m = viz_init()\n",
    "\n",
    "m.scatter(viz_cropout.x, viz_cropout.y, c=rock_cropout['elevation'], cmap=plt.cm.bwr, zorder = 3, s=0.1)\n",
    "plt.colorbar(pad = 0.01 , shrink = 0.7, aspect = 50)\n",
    "m.scatter(viz_stazioni.x, viz_stazioni.y, c='black', zorder = 3, s=50)\n",
    "plt.show()"
   ]
  },
  {
   "cell_type": "code",
   "execution_count": null,
   "metadata": {},
   "outputs": [],
   "source": [
    "m = viz_init()\n",
    "\n",
    "m.scatter(rocks_x, rocks_y, c='gray', zorder = 3, s=0.1)\n",
    "m.scatter(unco_x, unco_y, c='yellow', zorder = 3, s=0.1)\n",
    "plt.show()"
   ]
  },
  {
   "cell_type": "markdown",
   "metadata": {},
   "source": [
    "#### Get clustering features"
   ]
  },
  {
   "cell_type": "code",
   "execution_count": null,
   "metadata": {
    "tags": []
   },
   "outputs": [],
   "source": [
    "cluster_data = scale_data(get_cluster_data(rock_cropout))"
   ]
  },
  {
   "cell_type": "code",
   "execution_count": null,
   "metadata": {},
   "outputs": [],
   "source": []
  },
  {
   "cell_type": "code",
   "execution_count": null,
   "metadata": {},
   "outputs": [],
   "source": []
  },
  {
   "cell_type": "code",
   "execution_count": null,
   "metadata": {},
   "outputs": [],
   "source": []
  },
  {
   "cell_type": "code",
   "execution_count": null,
   "metadata": {},
   "outputs": [],
   "source": [
    "def appendCluster(clusters, point):\n",
    "        for i in range(num_cluster):\n",
    "            if clusters.geometry[i].contains(point):\n",
    "                return i\n",
    "        return -1\n",
    "\n",
    "def getElevRange():\n",
    "    elevRange = []\n",
    "    for i in range(num_cluster):\n",
    "        temp = rock_cropout[rock_cropout.cluster == i]\n",
    "        elevRange.append(np.max(temp.elev) - np.min(temp.elev))\n",
    "    return pd.Series(elevRange)\n",
    "\n",
    "num_cluster = 1\n",
    "\n",
    "def getClusters(n):\n",
    "    global num_cluster\n",
    "    num_cluster = n\n",
    "    kmeans = KMeans(n_clusters=num_cluster, init=\"k-means++\",n_init=10,tol=1e-04, random_state=42)\n",
    "    kmeans.fit(X)\n",
    "    \n",
    "    m = Basemap(projection='spstere',boundinglat=-60,lon_0=180,resolution='h') \n",
    "    \n",
    "    clusterDF['label']=kmeans.labels_\n",
    "    clusters = pd.DataFrame(columns=('cluster_num','geometry'))    \n",
    "    for label in range(0,num_cluster):\n",
    "        arr = clusterDF[clusterDF.label == label][['lon','lat']].to_numpy()\n",
    "        hull = ch(arr)\n",
    "        polylist = []\n",
    "        for idx in hull.vertices: #Indices of points forming the vertices of the convex hull.\n",
    "            polylist.append(arr[idx]) #Append this index point to list\n",
    "        p = Polygon(polylist)\n",
    "        clusters.at[label] = [label,p]\n",
    "    clusters = gpd.GeoDataFrame(clusters, crs='EPSG:{}'.format(3031), geometry='geometry')\n",
    "    clusters['centroid'] = clusters.geometry.apply(lambda x: x.centroid)\n",
    "    CCxpt, CCypt = m(clusters.centroid.to_crs('epsg:4326').x, clusters.centroid.to_crs('epsg:4326').y)\n",
    "    rock_cropout['cluster'] = rock_cropout.geometry.apply(lambda x: appendCluster(clusters, x.centroid))\n",
    "    \n",
    "    patches = []\n",
    "    for poly in clusters.to_crs('epsg:4326').geometry:\n",
    "        if poly.geom_type == 'Polygon':\n",
    "            mpoly = shapely.ops.transform(m, poly)\n",
    "            patches.append(PolygonPatch(mpoly))\n",
    "        elif poly.geom_type == 'MultiPolygon':\n",
    "            for subpoly in poly:\n",
    "                mpoly = shapely.ops.transform(m, poly)\n",
    "                patches.append(PolygonPatch(mpoly))\n",
    "        else:\n",
    "            print(poly, 'is neither a polygon nor a multi-polygon. Skipping it')\n",
    "            \n",
    "    clusters['elev'] = rock_cropout.groupby('cluster').elev.mean().reset_index().sort_values(by='cluster').iloc[1:].elev.values\n",
    "    clusters['elevation_range'] = getElevRange()\n",
    "    \n",
    "    #clusters = clusters.to_crs('EPSG:4326')\n",
    "    \n",
    "    fig, ax1 = plt.subplots(figsize=(20, 20))\n",
    "    m.drawcoastlines()\n",
    "    m.fillcontinents(color='white',lake_color='aqua')\n",
    "    m.drawmapboundary(fill_color='lightblue')\n",
    "    \n",
    "    # Cropout\n",
    "    # clust_x, clust_y = m(clusterDF.to_crs('epsg:4326').geometry.x,clusterDF.to_crs('epsg:4326').geometry.y)\n",
    "    # Dovrei poter usare le stesse proiezioni di cropout essendo gli stessi \n",
    "    # punti passati a clusterDF, provare a sostituire durante il refactoring\n",
    "    \n",
    "    m.scatter(clust_x, clust_y, c=kmeans.labels_, zorder = 3, s=0.1)\n",
    "    p = PatchCollection(patches, cmap=matplotlib.cm.jet, match_original=True, zorder=4, alpha=0.5)\n",
    "    p.set_array(clusters.elev)\n",
    "    ax1.add_collection(p)\n",
    "    plt.colorbar(p, pad = 0.01 , shrink = 0.85, aspect = 20)\n",
    "    m.scatter(CCxpt, CCypt, marker='P', c='white', zorder = 4, s=100)\n",
    "    m.scatter(sxpt, sypt, marker='^', c='black', zorder = 4, s=150)\n",
    "    plt.show()\n",
    "    return clusters"
   ]
  },
  {
   "cell_type": "code",
   "execution_count": null,
   "metadata": {},
   "outputs": [],
   "source": [
    "clusters = getClusters(8)"
   ]
  },
  {
   "cell_type": "code",
   "execution_count": null,
   "metadata": {},
   "outputs": [],
   "source": [
    "distance_from_coastline = []\n",
    "for point in range(len(stazioni)):\n",
    "    p1 = stazioni.iloc[point].geometry\n",
    "    p2 = coastline.iloc[np.argmin([stazioni.iloc[point].geometry.distance(line) for line in coastline.geometry])].geometry\n",
    "\n",
    "    ax = coastline.plot()\n",
    "    ax.scatter(p1.x, p1.y, c='black', zorder=3)\n",
    "    ax.scatter(p2.centroid.x, p2.centroid.y, c='red', zorder=3)\n",
    "    distance = p1.distance(p2) / 1000\n",
    "    distance_from_coastline.append(distance)\n",
    "    print(distance)\n",
    "    plt.show()"
   ]
  },
  {
   "cell_type": "code",
   "execution_count": null,
   "metadata": {},
   "outputs": [],
   "source": [
    "stazioni['distance_from_coastline(km)'] = np.around(distance_from_coastline,2)"
   ]
  },
  {
   "cell_type": "code",
   "execution_count": null,
   "metadata": {},
   "outputs": [],
   "source": [
    "def getArea(poly):\n",
    "    geom = poly\n",
    "    geom_area = ops.transform(\n",
    "        partial(\n",
    "            pyproj.transform,\n",
    "            pyproj.Proj(init='EPSG:4326'),\n",
    "            pyproj.Proj(\n",
    "                proj='aea',\n",
    "                lat_1=geom.bounds[1],\n",
    "                lat_2=geom.bounds[3]\n",
    "            )\n",
    "        ),\n",
    "        geom)\n",
    "    return round(geom_area.area / 1e6)"
   ]
  },
  {
   "cell_type": "code",
   "execution_count": null,
   "metadata": {
    "tags": []
   },
   "outputs": [],
   "source": [
    "clusters['area_km2'] = clusters.to_crs('epsg:4326').geometry.apply(lambda x: getArea(x))"
   ]
  },
  {
   "cell_type": "code",
   "execution_count": null,
   "metadata": {
    "tags": []
   },
   "outputs": [],
   "source": [
    "fig = px.scatter(clusters, x=\"cluster_num\", y=\"elev\", size='area_km2', color='elevation_range',width=1000, height=500)\n",
    "fig.show()"
   ]
  },
  {
   "cell_type": "code",
   "execution_count": null,
   "metadata": {},
   "outputs": [],
   "source": [
    "%%time\n",
    "def get_total_cropout_area_under_radius(point, target, radius):\n",
    "    arr = [point.distance(geom) / 1000 for geom in target]\n",
    "    idx = [idx for idx in range(len(arr)) if arr[idx] < radius]\n",
    "    return np.around(target.iloc[idx].geometry.area.values.sum()/1e6,2)\n",
    "\n",
    "stazioni['nearest_cluster']             = stazioni.geometry.apply(lambda x: clusters.iloc[np.argmin([x.distance(geom.centroid) / 1000 for geom in clusters.geometry])].cluster_num )\n",
    "stazioni['distance_to_nearest_cluster'] = stazioni.geometry.apply(lambda x: np.around(x.distance(clusters.iloc[np.argmin([x.distance(geom.centroid) / 1000 for geom in clusters.geometry])].centroid) / 1000,2 ))\n",
    "stazioni['nearest_cropout(km)']         = stazioni.geometry.apply(lambda x: np.around(np.min([x.distance(geom) / 1000 for geom in rock_cropout.geometry]), 2) )\n",
    "stazioni['cropout_area_within_500km']   = stazioni.geometry.apply(lambda x: get_total_cropout_area_under_radius(x, rock_cropout.geometry, 500))\n",
    "stazioni['cropout_area_within_1000km']  = stazioni.geometry.apply(lambda x: get_total_cropout_area_under_radius(x, rock_cropout.geometry, 1000))"
   ]
  },
  {
   "cell_type": "code",
   "execution_count": null,
   "metadata": {},
   "outputs": [],
   "source": [
    "fig = px.scatter(stazioni, x=\"distance_from_coastline(km)\", y=\"distance_to_nearest_cluster\", size='cropout_area_within_1000km', color='dust_conc_(ppb)',width=1000, height=500)\n",
    "fig.show()"
   ]
  },
  {
   "cell_type": "code",
   "execution_count": null,
   "metadata": {},
   "outputs": [],
   "source": [
    "fig = px.scatter(stazioni, x=\"dust_conc_(ppb)\", y=\"cropout_area_within_1000km\", size='distance_from_coastline(km)', color='altitude',width=1000, height=500)\n",
    "fig.show()"
   ]
  }
 ],
 "metadata": {
  "kernelspec": {
   "display_name": "Python 3",
   "language": "python",
   "name": "python3"
  },
  "language_info": {
   "codemirror_mode": {
    "name": "ipython",
    "version": 3
   },
   "file_extension": ".py",
   "mimetype": "text/x-python",
   "name": "python",
   "nbconvert_exporter": "python",
   "pygments_lexer": "ipython3",
   "version": "3.7.6"
  }
 },
 "nbformat": 4,
 "nbformat_minor": 4
}
