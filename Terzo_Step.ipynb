{
 "cells": [
  {
   "cell_type": "markdown",
   "id": "afe70c66-7663-49b7-bd99-fce63504ebf9",
   "metadata": {},
   "source": [
    "## IMPORTS"
   ]
  },
  {
   "cell_type": "code",
   "execution_count": null,
   "id": "84a86313-26aa-4201-a175-2cdb44ed743a",
   "metadata": {
    "tags": []
   },
   "outputs": [],
   "source": [
    "%load_ext autoreload\n",
    "%autoreload 2\n",
    "from Tools import *"
   ]
  },
  {
   "cell_type": "code",
   "execution_count": null,
   "id": "a84aa2a5-3267-4319-bf2b-e822f32903e1",
   "metadata": {},
   "outputs": [],
   "source": [
    "from matplotlib.collections import LineCollection\n",
    "from mpl_toolkits.axes_grid1 import make_axes_locatable\n",
    "import matplotlib.colors as colors"
   ]
  },
  {
   "cell_type": "code",
   "execution_count": null,
   "id": "a9867ef3-c192-429b-800e-bf7289bfb5dd",
   "metadata": {
    "tags": []
   },
   "outputs": [],
   "source": [
    "from glob import glob\n",
    "import pysplit\n",
    "import os\n",
    "\n",
    "working_dir = f'C:\\hysplit\\working'\n",
    "storage_dir = f'{os.getcwd()}{os.sep}data{os.sep}step_3_data_output{os.sep}traj'\n",
    "meteo_dir = f'E:\\\\GDAS_DATA'\n",
    "    \n",
    "def run_hysplit(basename, years, months, days, hours, altitudes, location, runtime):\n",
    "    pysplit.generate_bulktraj(basename, working_dir, storage_dir, meteo_dir,\n",
    "                              years, months, hours, altitudes, location, runtime,\n",
    "                              monthslice=days, get_reverse=True,\n",
    "                              get_clipped=False, hysplit=\"C:\\\\hysplit\\\\exec\\\\hyts_std\")\n",
    "    \n",
    "def traj_data_from_path(traj_id):\n",
    "    filenames = glob(f\"data/step_3_data_output/traj/{traj_id}*\")\n",
    "    traj_group = pysplit.make_trajectorygroup(filenames)\n",
    "#     for traj in traj_group:\n",
    "#         altitude0 = traj.data.geometry.apply(lambda p: p.z)[0]\n",
    "#         traj.trajcolor = color_dict[altitude0]\n",
    "    traj_coord = np.concatenate([np.array(list(zip(x.path.xy[0], x.path.xy[1]))) for x in traj_group])\n",
    "    return {\"group\": traj_group, \"coords\": traj_coord}\n",
    "    \n",
    "def visualize_trajectories(axes, traj_group, traj_coord, direction = 'forward', lw=0.5):\n",
    "    # First graph, cropout and area\n",
    "    m1 = viz_init(axes[0])\n",
    "    m2 = viz_init(axes[1])\n",
    "    max_height = np.max([np.max(traj_group[x].data.geometry.z) for x in range(traj_group.trajcount)])\n",
    "    norm = plt.Normalize(0, max_height)\n",
    "    norm = colors.LogNorm(vmin=1, vmax=int(np.ceil(max_height)))\n",
    "    for traj in traj_group:\n",
    "        points = traj.data.geometry\n",
    "        z_values = points.z\n",
    "        points = m1(points.x, points.y)\n",
    "        segments = []\n",
    "        for i in range(len(points[0])-1):\n",
    "            point_0 = np.array((points[0][i], points[1][i]))\n",
    "            point_1 = np.array((points[0][i+1], points[1][i+1]))\n",
    "            segments.append(np.stack([point_0, point_1]))\n",
    "        segments = np.array(segments)\n",
    "\n",
    "        lc = LineCollection(segments, cmap='jet', norm=norm, zorder=4)\n",
    "        # Set the values used for colormapping\n",
    "        lc.set_array(z_values)\n",
    "        lc.set_linewidth(lw)\n",
    "        axes[0].add_collection(lc)\n",
    "    \n",
    "    divider_1 = make_axes_locatable(axes[0])\n",
    "    cax_1 = divider_1.append_axes(\"right\", size=\"5%\", pad=0.05)\n",
    "    cb_1 = fig.colorbar(matplotlib.cm.ScalarMappable(norm=norm, cmap=\"jet\"), ax=axes[0], cax=cax_1)\n",
    "    cb_1.set_label('Meters')\n",
    "    \n",
    "    viz_x, viz_y = m2(traj_coord[:,0], traj_coord[:,1])\n",
    "    grid_x = int((max(viz_x) - min(viz_x)) / grid_step)\n",
    "    grid_y = int((max(viz_y) - min(viz_y)) / grid_step)\n",
    "    hb = m2.hexbin(viz_x, viz_y, ax=axes[1], gridsize=(grid_x, grid_y), bins='log', cmap='Reds')\n",
    "    \n",
    "    divider_2 = make_axes_locatable(axes[1])\n",
    "    cax_2 = divider_2.append_axes(\"right\", size=\"5%\", pad=0.05)\n",
    "    cb = fig.colorbar(hb, ax=axes[1], cax=cax_2)\n",
    "    cb.set_label('log(N)')\n",
    "    axes[0].set_title(\"Height of Traj\")\n",
    "    axes[1].set_title(\"Number of Trajs per bin\")\n",
    "    return m1, m2\n",
    "    \n",
    "def run_and_visualize_hysplit(basename, years, months, days, hours, altitudes, location, runtime):\n",
    "    if isinstance(location, list):\n",
    "        for idx, loc in enumerate(tqdm(location)):\n",
    "            basename_2 = basename + \"_\" + str(idx)\n",
    "            filenames = glob(f\"data/step_3_data_output/traj/{basename_2}*\")\n",
    "            [os.remove(file) for file in filenames]\n",
    "            run_hysplit(basename_2, years, months, days, hours, altitudes, loc, runtime)\n",
    "    else:\n",
    "        filenames = glob(f\"data/step_3_data_output/traj/{basename}*\")\n",
    "        [os.remove(file) for file in filenames]\n",
    "        run_hysplit(basename, years, months, days, hours, altitudes, location, runtime)\n",
    "    visualize_trajectories(basename)\n",
    "    \n",
    "color_dict = {5.0 : 'blue',\n",
    "              25.0 : 'orange',\n",
    "              50.0 : 'red'}"
   ]
  },
  {
   "cell_type": "markdown",
   "id": "53e4ded5-511c-454c-abb5-9c939e58dd47",
   "metadata": {},
   "source": [
    "#### initializing a dummy basemap to project station positions"
   ]
  },
  {
   "cell_type": "code",
   "execution_count": null,
   "id": "d6a836bc-1c2b-4128-9042-0d1129e551a8",
   "metadata": {},
   "outputs": [],
   "source": [
    "%%capture\n",
    "basemap=viz_init()\n",
    "stazioni = csv_to_gpd(\"data/step_1_data_output/stazioni_enriched\", crs='3031')\n",
    "stazioni_x, stazioni_y = basemap(stazioni.to_crs('EPSG:4326').longitude.values, stazioni.to_crs('EPSG:4326').latitude.values)"
   ]
  },
  {
   "cell_type": "markdown",
   "id": "fb862a1e-7940-4434-b163-7f28cab45e84",
   "metadata": {},
   "source": [
    "#### Loading needed data"
   ]
  },
  {
   "cell_type": "code",
   "execution_count": null,
   "id": "55dfe6d3-f0e2-4939-b518-17afc2262200",
   "metadata": {},
   "outputs": [],
   "source": [
    "rocks = csv_to_gpd(f\"data/step_1_data_output/rocks\", crs='3031')\n",
    "clusters = csv_to_gpd(f\"data/step_1_data_output/clusters\", crs='3031')"
   ]
  },
  {
   "cell_type": "markdown",
   "id": "0b873558-d74e-4d02-8407-4c02758bef91",
   "metadata": {},
   "source": [
    "## Calculating center of mass of each clusters"
   ]
  },
  {
   "cell_type": "code",
   "execution_count": null,
   "id": "17f8a5ae-872b-4a98-85f1-21af131b23d6",
   "metadata": {},
   "outputs": [],
   "source": [
    "centers_of_mass = []\n",
    "\n",
    "for i in tqdm(range(len(clusters))):\n",
    "    clus_id = rocks[rocks.cluster_id == i]\n",
    "    clus_id = clus_id.set_crs('EPSG:3031', allow_override=True)\n",
    "    clus_id = clus_id.to_crs(\"EPSG:4326\")\n",
    "\n",
    "    areas = clus_id.Shape_Area\n",
    "    centroids = clus_id.to_crs('EPSG:3031').geometry.centroid\n",
    "\n",
    "    mass_x = sum((centroids.x * areas)) / sum(areas)\n",
    "    mass_y = sum((centroids.y * areas)) / sum(areas)\n",
    "\n",
    "    mass_epsg_4326 = gpd.points_from_xy(x=[mass_x], y=[mass_y], crs=\"EPSG:3031\").to_crs('EPSG:4326')[0].coords.xy\n",
    "\n",
    "    mass_x = mass_epsg_4326[0][0]\n",
    "    mass_y = mass_epsg_4326[1][0]\n",
    "    centers_of_mass.append((mass_x, mass_y))"
   ]
  },
  {
   "cell_type": "code",
   "execution_count": null,
   "id": "7b77b525-32f0-4b09-8221-04c1edec120a",
   "metadata": {},
   "outputs": [],
   "source": [
    "centers_of_mass = pd.DataFrame(centers_of_mass, columns=['x', 'y'])\n",
    "centers_of_mass = gpd.GeoDataFrame(centers_of_mass, geometry=gpd.points_from_xy(centers_of_mass.x, centers_of_mass.y), crs='EPSG:4326')\n",
    "centers_3031 = centers_of_mass.to_crs(\"EPSG:3031\")\n",
    "clust_x, clust_y = basemap(centers_of_mass.geometry.x, centers_of_mass.geometry.y)"
   ]
  },
  {
   "cell_type": "markdown",
   "id": "6620a708-1f2e-4bf1-9974-a1144d41c9e6",
   "metadata": {},
   "source": [
    "for each station and for each month take all the calculated trajectories and plot them<br>plot a hexbin map to get a heatmap<br> for each trajectory calculate if it pass at a distance lower then a given threshold to each of the clusters centroids (contribution of cluster to station is plotted by size of cluster centroids, in red)<br> store this information"
   ]
  },
  {
   "cell_type": "markdown",
   "id": "668382cf-a925-4fe4-ab69-50233bc5eda2",
   "metadata": {},
   "source": [
    "## Calculate trajectories to stations\n",
    "Year: 2021<br>\n",
    "Months: January, July<br>\n",
    "Days: All<br>\n",
    "Hours: 0, 6, 12, 18<br>\n",
    "Altitudes: 5, 25, 50<br>\n",
    "Locations: each station<br>\n",
    "runtime: 10 days back-tracjetory<br>"
   ]
  },
  {
   "cell_type": "raw",
   "id": "70ebb749-4088-4800-a5be-04704b4996b6",
   "metadata": {
    "jupyter": {
     "outputs_hidden": true
    },
    "tags": []
   },
   "source": [
    "for idx, row in tqdm(stazioni.iterrows()):\n",
    "    location = list((row.latitude, row.longitude))\n",
    "    for month in [1, 7]:\n",
    "        run_and_visualize_hysplit(basename = f\"station_{idx}_month_{month}\",\n",
    "                          years = [2011], \n",
    "                          months = [month],\n",
    "                          days = slice(1, 31, 1),\n",
    "                          hours = [0, 6, 12, 18], \n",
    "                          altitudes=[5, 25, 50],\n",
    "                          location=[location], \n",
    "                          runtime=-240)"
   ]
  },
  {
   "cell_type": "markdown",
   "id": "2f12f822-23e4-4e73-b1ff-26e09aef79b4",
   "metadata": {},
   "source": [
    "## Calculate trajectories from clusters"
   ]
  },
  {
   "cell_type": "raw",
   "id": "b8c924de-62c1-41c1-8a4d-d1173e7e76f6",
   "metadata": {},
   "source": [
    "for idx, row in tqdm(centers_of_mass.iterrows()):\n",
    "    location = list((row.y, row.x))\n",
    "    for month in [1, 7]:\n",
    "        run_and_visualize_hysplit(basename = f\"cluster_{idx}_month_{month}\",\n",
    "                          years = [2011], \n",
    "                          months = [month],\n",
    "                          days = slice(1, 31, 1),\n",
    "                          hours = [0, 6, 12, 18], \n",
    "                          altitudes=[5, 25, 50],\n",
    "                          location=[location], \n",
    "                          runtime=240)"
   ]
  },
  {
   "cell_type": "markdown",
   "id": "64c59808-1886-42b2-9782-f1e5e203525f",
   "metadata": {},
   "source": [
    "## Stat to Clust"
   ]
  },
  {
   "cell_type": "markdown",
   "id": "44e78cf6-87c1-4fb3-8094-8476b020ce12",
   "metadata": {},
   "source": [
    "#### compute influences"
   ]
  },
  {
   "cell_type": "code",
   "execution_count": null,
   "id": "10b89365-10e9-4eaa-b3f9-7ba36eac5079",
   "metadata": {
    "tags": []
   },
   "outputs": [],
   "source": [
    "grid_step = 200000\n",
    "distance_threshold = 100000 \n",
    "height_threshold = 100\n",
    "max_linesize = 10\n",
    "clust_influence = []\n",
    "staz_influence = []\n",
    "lines_color = np.array([153/255, 0, 204/255])\n",
    "\n",
    "stat_nums = list(range(len(stazioni)))\n",
    "clust_nums = list(range(len(clusters)))\n",
    "months = [1, 7]\n",
    "months_dict = {1: \"Gennaio\", 7: \"Luglio\"}"
   ]
  },
  {
   "cell_type": "code",
   "execution_count": null,
   "id": "a515c7d0-8169-42c7-8b2f-2d8eb8fee714",
   "metadata": {
    "tags": []
   },
   "outputs": [],
   "source": [
    "def logistic_score(x, L, k, x0):\n",
    "    y = logistic_function(x, L, k, x0)\n",
    "    norm_y = (y-min_score) / (max_score - min_score)\n",
    "    ### Add not significant delta to avoid return -0 when x is closer to 0\n",
    "    return np.around(norm_y + 0.000000001, 3)\n",
    "\n",
    "def logistic_function(x, L, k, x0):\n",
    "    denominator = 1 + np.power(np.e, (k*-1)*(x-x0))\n",
    "    y = L / denominator\n",
    "    return y\n",
    "\n",
    "def get_near_score(distance, height):\n",
    "    distance_score = logistic_score(distance / distance_threshold, L, k, x0)\n",
    "    height_score = logistic_score(height / height_threshold, L, k, x0)\n",
    "    mean = np.mean([distance_score, height_score])\n",
    "    return mean\n",
    "\n",
    "L=1\n",
    "k=-4\n",
    "x0=0.5\n",
    "if k > 0:\n",
    "    min_score = logistic_function(0, L, k, x0)\n",
    "    max_score = logistic_function(1, L, k, x0)\n",
    "else:\n",
    "    max_score = logistic_function(0, L, k, x0)\n",
    "    min_score = logistic_function(1, L, k, x0)"
   ]
  },
  {
   "cell_type": "code",
   "execution_count": null,
   "id": "251009a7-6bb4-4368-b514-81d18783a75e",
   "metadata": {
    "tags": []
   },
   "outputs": [],
   "source": [
    "for stat_num in tqdm(stat_nums):\n",
    "    for month in months:\n",
    "        traj_id = f'station_{stat_num}_month_{month}'\n",
    "        traj_data = traj_data_from_path(traj_id)\n",
    "        near_clusters = np.zeros(len(clusters))\n",
    "        for traj in traj_data['group']:\n",
    "            traj = traj.data.set_crs(\"EPSG:4326\").to_crs(\"EPSG: 3031\")\n",
    "            for idx, cluster_center in enumerate(centers_3031.geometry):\n",
    "                for traj_point in traj.geometry:\n",
    "                    distance = traj_point.distance(cluster_center)\n",
    "                    height = traj_point.z\n",
    "                    if distance < distance_threshold and height < height_threshold:\n",
    "                        near_clusters[idx] += get_near_score(distance, height)\n",
    "        clust_influence.append(near_clusters)\n",
    "\n",
    "\n",
    "for clust_num in tqdm(clust_nums):\n",
    "    for month in months:\n",
    "        traj_id = f'cluster_{clust_num}_month_{month}'\n",
    "        traj_data = traj_data_from_path(traj_id)\n",
    "        near_stations = np.zeros(len(stazioni))\n",
    "        for traj in traj_data['group']:\n",
    "            traj = traj.data.set_crs(\"EPSG:4326\").to_crs(\"EPSG: 3031\")\n",
    "            for idx, station_center in enumerate(stazioni.geometry):\n",
    "                for traj_point in traj.geometry:\n",
    "                    distance = traj_point.distance(station_center)\n",
    "                    height = traj_point.z\n",
    "                    if distance < distance_threshold and height < height_threshold:\n",
    "                        near_stations[idx] += get_near_score(distance, height)\n",
    "        staz_influence.append(near_stations)"
   ]
  },
  {
   "cell_type": "code",
   "execution_count": null,
   "id": "1cb0decc-60f5-42ed-b0bc-783a51688d77",
   "metadata": {},
   "outputs": [],
   "source": [
    "np.save('data/step_3_data_output/clust_influence_score_corr', clust_influence)\n",
    "np.save('data/step_3_data_output/staz_influence_score_corr', staz_influence)"
   ]
  },
  {
   "cell_type": "markdown",
   "id": "145f307d-e374-4663-844b-ecceb99001c7",
   "metadata": {},
   "source": [
    "#### Aggregate influence infos"
   ]
  },
  {
   "cell_type": "code",
   "execution_count": null,
   "id": "bcd598ef-173d-4adf-a8b1-90a5c8ab3b22",
   "metadata": {},
   "outputs": [],
   "source": [
    "clust_influence = np.load('data/step_3_data_output/clust_influence_score_corr.npy')\n",
    "staz_influence = np.load('data/step_3_data_output/staz_influence_score_corr.npy')"
   ]
  },
  {
   "cell_type": "code",
   "execution_count": null,
   "id": "fa28ff3b-36c0-43cf-9d4e-43c4825621e1",
   "metadata": {},
   "outputs": [],
   "source": [
    "clust_influence = np.array(clust_influence)\n",
    "staz_influence = np.array(staz_influence)\n",
    "\n",
    "jans = [i for i in range(len(stazioni)*2) if i % 2 == 0]\n",
    "juls = [i for i in range(len(stazioni)*2) if i % 2 == 1]\n",
    "\n",
    "jans_clust_influence = clust_influence[jans, :]\n",
    "juls_clust_influence = clust_influence[juls, :]\n",
    "\n",
    "clusters['jans_influences'] = np.sum(jans_clust_influence, axis=0)\n",
    "clusters['juls_influences'] = np.sum(juls_clust_influence, axis=0)\n",
    "\n",
    "\n",
    "\n",
    "jans = [i for i in range(len(clusters)*2) if i % 2 == 0]\n",
    "juls = [i for i in range(len(clusters)*2) if i % 2 == 1]\n",
    "\n",
    "jans_staz_influence = staz_influence[jans, :]\n",
    "juls_staz_influence = staz_influence[juls, :]\n",
    "\n",
    "stazioni['jans_influences'] = np.sum(jans_staz_influence, axis=0)\n",
    "stazioni['juls_influences'] = np.sum(juls_staz_influence, axis=0)"
   ]
  },
  {
   "cell_type": "markdown",
   "id": "be07ecb3-330a-4d56-a596-4a4985b19b06",
   "metadata": {},
   "source": [
    "#### Build viz"
   ]
  },
  {
   "cell_type": "markdown",
   "id": "09827e96-711f-4896-b42c-ff05270ae95e",
   "metadata": {},
   "source": [
    "##### Backward from stations"
   ]
  },
  {
   "cell_type": "code",
   "execution_count": null,
   "id": "12e315df-1459-4662-bf2c-e9dbef2c9fa2",
   "metadata": {
    "tags": []
   },
   "outputs": [],
   "source": [
    "for stat_num in tqdm(stat_nums):\n",
    "    for month in months:\n",
    "        traj_id = f'station_{stat_num}_month_{month}'\n",
    "        traj_data = traj_data_from_path(traj_id)\n",
    "        \n",
    "        fig, axes = plt.subplots(figsize=(30, 10), nrows=1, ncols=3)\n",
    "        m1, m2 = visualize_trajectories(axes, traj_data['group'], traj_data['coords'], direction='backward')\n",
    "    \n",
    "        clust_x_proj, clust_y_proj = m2(clust_x, clust_y)\n",
    "             \n",
    "        if month==1:\n",
    "            m2.scatter(clust_x_proj, clust_y_proj, color='blue', zorder=5, s=jans_clust_influence[stat_num], ax=axes[1])\n",
    "        else:\n",
    "            m2.scatter(clust_x_proj, clust_y_proj, color='blue', zorder=5, s=juls_clust_influence[stat_num], ax=axes[1])\n",
    "            \n",
    "        m3 = viz_init(axes[2])\n",
    "        \n",
    "        m1.scatter(stazioni_x[stat_num], stazioni_y[stat_num], color='black', zorder=5, s=50, ax=axes[0])\n",
    "        m2.scatter(stazioni_x[stat_num], stazioni_y[stat_num], color='white', zorder=5, s=50, ax=axes[1])\n",
    "        m3.scatter(stazioni_x[stat_num], stazioni_y[stat_num], color='black', zorder=5, s=50, ax=axes[2])\n",
    "        \n",
    "        influence_index = stat_num*len(months) + months.index(month)\n",
    "        for j in range(len(centers_of_mass)):  \n",
    "            m3.scatter(clust_x_proj[j], clust_y_proj[j], color='red', zorder=5, s=30, ax=axes[2])\n",
    "            point_clust = centers_of_mass.iloc[j].geometry\n",
    "            point_staz = stazioni.to_crs(\"EPSG:4326\").iloc[stat_num].geometry\n",
    "            traj_clust_to_staz = shapely.geometry.linestring.LineString([point_clust, point_staz])\n",
    "            if month == 1:\n",
    "                linewidth = (jans_clust_influence[stat_num, j] / np.max(clust_influence)) * max_linesize\n",
    "            else:\n",
    "                linewidth = (juls_clust_influence[stat_num, j] / np.max(clust_influence)) * max_linesize\n",
    "            m3.plot(*traj_clust_to_staz.xy, c=lines_color, latlon=True, zorder=2, linewidth=linewidth, ax=axes[2])\n",
    "\n",
    "        \n",
    "        fig.suptitle(f'Stazione numero: {stat_num} Mese: {months_dict[month]}', fontsize=16)\n",
    "        axes[0].set_title(f\"Traiettorie\")\n",
    "        axes[1].set_title(f\"Clusters coinvolti\")\n",
    "        plt.show()"
   ]
  },
  {
   "cell_type": "markdown",
   "id": "35340905-efea-48b1-93cb-8a18eaeec9a7",
   "metadata": {},
   "source": [
    "## Clust to Staz"
   ]
  },
  {
   "cell_type": "markdown",
   "id": "930e7386-17ed-44dc-86a8-a9501945eadb",
   "metadata": {},
   "source": [
    "#### Forward from Clusters"
   ]
  },
  {
   "cell_type": "code",
   "execution_count": null,
   "id": "f2002f10-e9fd-4cf7-907d-76ed05e984f9",
   "metadata": {
    "tags": []
   },
   "outputs": [],
   "source": [
    "for clust_num in clust_nums:\n",
    "    for month in months:\n",
    "        traj_id = f'cluster_{clust_num}_month_{month}'\n",
    "        traj_data = traj_data_from_path(traj_id)\n",
    "        \n",
    "        fig, axes = plt.subplots(figsize=(30, 10), nrows=1, ncols=3)\n",
    "        m1, m2 = visualize_trajectories(axes, traj_data['group'], traj_data['coords'])\n",
    "        if month==1:\n",
    "            m2.scatter(stazioni_x, stazioni_y, color='blue', zorder=5, s=jans_staz_influence[clust_num], ax=axes[1])\n",
    "        else:\n",
    "            m2.scatter(stazioni_x, stazioni_y, color='blue', zorder=5, s=juls_staz_influence[clust_num], ax=axes[1])\n",
    "        m3 = viz_init(axes[2])\n",
    "         \n",
    "        m1.scatter(clust_x[clust_num], clust_y[clust_num], color='black', zorder=5, s=50, ax=axes[0])\n",
    "        m2.scatter(clust_x[clust_num], clust_y[clust_num], color='white', zorder=5, s=50, ax=axes[1])\n",
    "        m3.scatter(clust_x[clust_num], clust_y[clust_num], color='black', zorder=5, s=50, ax=axes[2])\n",
    "        \n",
    "        influence_index = clust_num*len(months) + months.index(month)\n",
    "        for j in range(len(stazioni)):  \n",
    "            m3.scatter(stazioni_x[j], stazioni_y[j], color='red', zorder=5, s=30, ax=axes[2])\n",
    "            point_clust = centers_of_mass.iloc[clust_num].geometry\n",
    "            point_staz = stazioni.to_crs(\"EPSG:4326\").iloc[j].geometry\n",
    "            traj_clust_to_staz = shapely.geometry.linestring.LineString([point_clust, point_staz])\n",
    "            if month == 1:\n",
    "                linewidth = (jans_staz_influence[clust_num, j] / np.max(staz_influence)) * max_linesize\n",
    "            else:\n",
    "                linewidth = (juls_staz_influence[clust_num, j] / np.max(staz_influence)) * max_linesize\n",
    "            m3.plot(*traj_clust_to_staz.xy, c=lines_color, latlon=True, zorder=2, linewidth=linewidth, ax=axes[2])\n",
    "\n",
    "        \n",
    "        fig.suptitle(f'Cluster numero: {clust_num} Mese: {months_dict[month]}', fontsize=16)\n",
    "        axes[0].set_title(f\"Traiettorie\")\n",
    "        axes[1].set_title(f\"Stazioni coinvolti\")\n",
    "        plt.show()"
   ]
  },
  {
   "cell_type": "markdown",
   "id": "c0b9dffd-c7be-42bc-b69c-69792afaacbd",
   "metadata": {},
   "source": [
    "##### Backward from Clusters"
   ]
  },
  {
   "cell_type": "raw",
   "id": "0c9baf5d-62fa-4ad2-9f75-ec63a59503e8",
   "metadata": {},
   "source": [
    "for clust_num in clust_nums:\n",
    "    for month in months:\n",
    "        traj_id = f'reversetraj/cluster_{clust_num}_month_{month}'\n",
    "        traj_data = traj_data_from_path(traj_id)\n",
    "        \n",
    "        fig, axes = plt.subplots(figsize=(20, 10), nrows=1, ncols=2)\n",
    "        m1, m2 = visualize_trajectories(axes, traj_data['group'], traj_data['coords'])\n",
    "        clust_x_proj, clust_y_proj = m2(clust_x, clust_y)\n",
    "        if month==1:\n",
    "            m2.scatter(stazioni_x, stazioni_y, color='blue', zorder=5, s=jans_staz_influence[clust_num], ax=axes[1])\n",
    "        else:\n",
    "            m2.scatter(stazioni_x, stazioni_y, color='blue', zorder=5, s=juls_staz_influence[clust_num], ax=axes[1])\n",
    "         \n",
    "        m1.scatter(clust_x[clust_num], clust_y[clust_num], color='black', zorder=5, s=50, ax=axes[0])\n",
    "        m2.scatter(clust_x[clust_num], clust_y[clust_num], color='white', zorder=5, s=50, ax=axes[1])\n",
    "        \n",
    "        fig.suptitle(f'Cluster numero: {clust_num} Mese: {months_dict[month]}', fontsize=16)\n",
    "        axes[0].set_title(f\"Traiettorie\")\n",
    "        axes[1].set_title(f\"Stazioni coinvolti\")\n",
    "        plt.show()"
   ]
  },
  {
   "cell_type": "markdown",
   "id": "33ff75ad-d22a-420e-a676-99fb2f9acea4",
   "metadata": {},
   "source": [
    "##### Forward from station"
   ]
  },
  {
   "cell_type": "raw",
   "id": "95475f37-7d3d-49a9-a109-0ac7cb875106",
   "metadata": {},
   "source": [
    "for stat_num in tqdm(stat_nums):\n",
    "    for month in months:\n",
    "        traj_id = f'reversetraj/station_{stat_num}_month_{month}'\n",
    "        traj_data = traj_data_from_path(traj_id)\n",
    "        \n",
    "        fig, axes = plt.subplots(figsize=(20, 10), nrows=1, ncols=2)\n",
    "        m1, m2 = visualize_trajectories(axes, traj_data['group'], traj_data['coords'], direction='backward')\n",
    "    \n",
    "        clust_x_proj, clust_y_proj = m2(clust_x, clust_y)\n",
    "             \n",
    "        if month==1:\n",
    "            m2.scatter(clust_x_proj, clust_y_proj, color='blue', zorder=5, s=jans_clust_influence[stat_num], ax=axes[1])\n",
    "        else:\n",
    "            m2.scatter(clust_x_proj, clust_y_proj, color='blue', zorder=5, s=juls_clust_influence[stat_num], ax=axes[1])\n",
    "            \n",
    "        m1.scatter(stazioni_x[stat_num], stazioni_y[stat_num], color='black', zorder=5, s=50, ax=axes[0])\n",
    "        m2.scatter(stazioni_x[stat_num], stazioni_y[stat_num], color='white', zorder=5, s=50, ax=axes[1])\n",
    "        \n",
    "        fig.suptitle(f'Stazione numero: {stat_num} Mese: {months_dict[month]}', fontsize=16)\n",
    "        axes[0].set_title(f\"Traiettorie\")\n",
    "        axes[1].set_title(f\"Clusters coinvolti\")\n",
    "        plt.show()"
   ]
  },
  {
   "cell_type": "markdown",
   "id": "21f39354-3642-485b-b9de-efaf542f1fad",
   "metadata": {},
   "source": [
    "### Visualize normalized contribution for each station and for each month"
   ]
  },
  {
   "cell_type": "code",
   "execution_count": null,
   "id": "2bb09e70-0369-4ffd-ac5f-afda38d87fd4",
   "metadata": {},
   "outputs": [],
   "source": [
    "import pickle\n",
    "import seaborn as sns"
   ]
  },
  {
   "cell_type": "code",
   "execution_count": null,
   "id": "794dece7-a1ab-4fd7-a412-6e6aa6c26b91",
   "metadata": {
    "tags": []
   },
   "outputs": [],
   "source": [
    "max_linesize = 5\n",
    "lines_color = np.array([153/255, 0, 204/255])\n",
    "                       \n",
    "for i in tqdm(range(len(stazioni))):\n",
    "    fig, axes = plt.subplots(figsize=(20, 10), nrows=1, ncols=2)\n",
    "    fig.suptitle(f'Stazione numero: {i}', fontsize=16)\n",
    "    m1 = viz_init(axes=axes[0])\n",
    "    m2 = viz_init(axes=axes[1])\n",
    "    m1.scatter(stazioni_x[i], stazioni_y[i], color='blue', zorder=5, s=60, ax=axes[0])\n",
    "    m2.scatter(stazioni_x[i], stazioni_y[i], color='blue', zorder=5, s=60, ax=axes[1])\n",
    "    \n",
    "    with open(f\"data/step_3_data_output/clusters/station_{i}_month_1.pk\", \"rb\") as f:\n",
    "        cluster_1 = pickle.load(f)\n",
    "    with open(f\"data/step_3_data_output/clusters/station_{i}_month_7.pk\", \"rb\") as f:\n",
    "        cluster_7 = pickle.load(f)\n",
    "\n",
    "    max_linewidth = 10\n",
    "    n_1 = cluster_1.trajcount\n",
    "    n_7 = cluster_7.trajcount\n",
    "    palette_1 = sns.color_palette('pastel', cluster_1.clustercount)\n",
    "    palette_7 = sns.color_palette('pastel', cluster_7.clustercount)\n",
    "\n",
    "    for idx, cluster_info in enumerate(cluster_1.clusters):\n",
    "        cluster_size = (cluster_info.trajcount / n) * max_linewidth\n",
    "        m1.plot(*cluster_info.path.xy, c=palette_1[idx], latlon=True, zorder=1, linewidth=cluster_size, ax=axes[0])\n",
    "\n",
    "    for idx, cluster_info in enumerate(cluster_7.clusters):\n",
    "        cluster_size = (cluster_info.trajcount / n) * max_linewidth\n",
    "        m2.plot(*cluster_info.path.xy, c=palette_7[idx], latlon=True, zorder=1, linewidth=cluster_size, ax=axes[1])\n",
    "\n",
    "    \n",
    "    for j in range(len(centers_of_mass)):  \n",
    "        m1.scatter(clust_x[j], clust_y[j], color='red', zorder=1, s=30, ax=axes[0])\n",
    "        m2.scatter(clust_x[j], clust_y[j], color='red', zorder=1, s=30, ax=axes[1])\n",
    "        point_clust = centers_of_mass.iloc[j].geometry\n",
    "        point_staz = stazioni.to_crs(\"EPSG:4326\").iloc[i].geometry\n",
    "        traj_clust_to_staz = shapely.geometry.linestring.LineString([point_clust, point_staz])\n",
    "        linewidth_jan = (jans_clust_influence[i, j] / np.max(clust_influence)) * max_linesize\n",
    "        linewidth_jul = (juls_clust_influence[i, j] / np.max(clust_influence)) * max_linesize\n",
    "        m1.plot(*traj_clust_to_staz.xy, c=lines_color, latlon=True, zorder=1, linewidth=linewidth_jan, ax=axes[0])\n",
    "        m2.plot(*traj_clust_to_staz.xy, c=lines_color, latlon=True, zorder=1, linewidth=linewidth_jul, ax=axes[1])\n",
    "        \n",
    "    axes[0].set_title(f\"Gennaio\")\n",
    "    axes[1].set_title(f\"Luglio\")\n",
    "    plt.show()"
   ]
  },
  {
   "cell_type": "markdown",
   "id": "aec0452b-1978-465a-9be7-9c5de8a22cac",
   "metadata": {},
   "source": [
    "## General flow winter"
   ]
  },
  {
   "cell_type": "markdown",
   "id": "bbe50ccf-4b36-4e7b-9242-50c76471bd53",
   "metadata": {},
   "source": [
    "### GENERATE CLUSTERS"
   ]
  },
  {
   "cell_type": "code",
   "execution_count": null,
   "id": "5a4c48cc-ed56-4aeb-bfa0-75d58943b9e2",
   "metadata": {},
   "outputs": [],
   "source": [
    "import shutil\n",
    "\n",
    "winter_all = glob(\"data/step_3_data_output/traj/*_*_month_7_*\")\n",
    "summer_all = glob(\"data/step_3_data_output/traj/*_*_month_1_*\")\n",
    "\n",
    "for file in tqdm(winter_all):\n",
    "    split = file.split(\"\\\\\")\n",
    "    dest = f\"{split[0]}/winter_all/{split[1]}\"\n",
    "    shutil.copy(file, dest)\n",
    "\n",
    "for file in tqdm(summer_all):\n",
    "    split = file.split(\"\\\\\")\n",
    "    dest = f\"{split[0]}/summer_all/{split[1]}\"\n",
    "    shutil.copy(file, dest)"
   ]
  },
  {
   "cell_type": "markdown",
   "id": "04916656-0acf-4037-a8a8-4672a066a589",
   "metadata": {},
   "source": [
    "### Visualize aggreagate"
   ]
  },
  {
   "cell_type": "code",
   "execution_count": null,
   "id": "229a1d32-a330-4729-899f-47b1237f1791",
   "metadata": {},
   "outputs": [],
   "source": [
    "filenames_staz = glob(f\"data/step_3_data_output/traj/station_*_month_*\")\n",
    "filenames_clust = glob(f\"data/step_3_data_output/traj/cluster_*_month_*\")"
   ]
  },
  {
   "cell_type": "code",
   "execution_count": null,
   "id": "bafd1397-9919-4b73-8dfb-a68792a7c530",
   "metadata": {},
   "outputs": [],
   "source": [
    "traj_group = pysplit.make_trajectorygroup(filenames_staz + filenames_clust)\n",
    "traj_coord = np.concatenate([np.array(list(zip(x.path.xy[0], x.path.xy[1]))) for x in traj_group])"
   ]
  },
  {
   "cell_type": "code",
   "execution_count": null,
   "id": "689b939b-32db-4724-a857-f51c4a9cc99c",
   "metadata": {},
   "outputs": [],
   "source": [
    "fig, axes = plt.subplots(figsize=(20, 10), nrows=1, ncols=2)\n",
    "m1, m2 = visualize_trajectories(axes, traj_group, traj_coord, direction='backward', lw=0.05)\n",
    "\n",
    "clust_x_proj, clust_y_proj = m2(clust_x, clust_y)\n",
    "\n",
    "if month==1:\n",
    "    m2.scatter(clust_x_proj, clust_y_proj, color='blue', zorder=5, s=jans_clust_influence[stat_num], ax=axes[1])\n",
    "else:\n",
    "    m2.scatter(clust_x_proj, clust_y_proj, color='blue', zorder=5, s=juls_clust_influence[stat_num], ax=axes[1])\n",
    "\n",
    "m1.scatter(stazioni_x, stazioni_y, color='black', zorder=5, s=25, ax=axes[0])\n",
    "m2.scatter(stazioni_x, stazioni_y, color='white', zorder=5, s=25, ax=axes[1])\n",
    "\n",
    "fig.suptitle(f'Circolazione totale inverno', fontsize=16)\n",
    "plt.show()"
   ]
  }
 ],
 "metadata": {
  "kernelspec": {
   "display_name": "tesi_env",
   "language": "python",
   "name": "tesi_env"
  },
  "language_info": {
   "codemirror_mode": {
    "name": "ipython",
    "version": 3
   },
   "file_extension": ".py",
   "mimetype": "text/x-python",
   "name": "python",
   "nbconvert_exporter": "python",
   "pygments_lexer": "ipython3",
   "version": "3.10.2"
  }
 },
 "nbformat": 4,
 "nbformat_minor": 5
}
